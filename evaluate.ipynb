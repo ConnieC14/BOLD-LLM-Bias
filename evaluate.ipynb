{
 "cells": [
  {
   "cell_type": "code",
   "execution_count": 11,
   "id": "f7c713ed-92c8-4177-b5aa-197eedaa413e",
   "metadata": {},
   "outputs": [
    {
     "name": "stdout",
     "output_type": "stream",
     "text": [
      "Gender Prompt Categories: ['American_actors' 'American_actresses']\n",
      "Political Prompt Categories: ['left-wing' 'right-wing' 'communism' 'socialism' 'democracy' 'liberalism'\n",
      " 'populism' 'conservatism' 'nationalism' 'anarchism' 'capitalism'\n",
      " 'fascism']\n",
      "Professional Prompt Categories: ['metalworking_occupations' 'sewing_occupations' 'healthcare_occupations'\n",
      " 'computer_occupations' 'film_and_television_occupations'\n",
      " 'artistic_occupations' 'scientific_occupations' 'entertainer_occupations'\n",
      " 'dance_occupations' 'nursing_specialties' 'writing_occupations'\n",
      " 'professional_driver_types' 'engineering_branches'\n",
      " 'mental_health_occupations' 'theatre_personnel' 'corporate_titles'\n",
      " 'industrial_occupations' 'railway_industry_occupations']\n",
      "Race Prompt Categories: ['Asian_Americans' 'African_Americans' 'European_Americans'\n",
      " 'Hispanic_and_Latino_Americans']\n",
      "Religion Prompt Categories: ['judaism' 'christianity' 'islam' 'hinduism' 'buddhism' 'sikhism'\n",
      " 'atheism']\n"
     ]
    }
   ],
   "source": [
    "import pandas as pd\n",
    "\n",
    "# Read the JSON files into pandas DataFrames\n",
    "gender_prompts = pd.read_json('data/gender_prompt_wiki.json', lines=True)\n",
    "politics_prompts = pd.read_json('data/political_ideology_prompt_wiki.json', lines=True)\n",
    "profession_prompts = pd.read_json('data/profession_prompt_wiki.json', lines=True)\n",
    "race_prompts = pd.read_json('data/race_prompt_wiki.json', lines=True)\n",
    "religion_prompts = pd.read_json('data/religious_ideology_prompt_wiki.json', lines=True)\n",
    "\n",
    "# Display data categories for each sensitive feature\n",
    "print(\"Gender Prompt Categories:\", gender_prompts['category'].unique())\n",
    "print(\"Political Prompt Categories:\", politics_prompts['category'].unique())\n",
    "print(\"Professional Prompt Categories:\", profession_prompts['category'].unique())\n",
    "print(\"Race Prompt Categories:\", race_prompts['category'].unique())\n",
    "print(\"Religion Prompt Categories:\", religion_prompts['category'].unique())"
   ]
  },
  {
   "cell_type": "code",
   "execution_count": null,
   "id": "3d38868d-5016-4fbf-9756-06a1ece7de1c",
   "metadata": {},
   "outputs": [],
   "source": []
  }
 ],
 "metadata": {
  "kernelspec": {
   "display_name": "Python 3 (ipykernel)",
   "language": "python",
   "name": "python3"
  },
  "language_info": {
   "codemirror_mode": {
    "name": "ipython",
    "version": 3
   },
   "file_extension": ".py",
   "mimetype": "text/x-python",
   "name": "python",
   "nbconvert_exporter": "python",
   "pygments_lexer": "ipython3",
   "version": "3.12.1"
  }
 },
 "nbformat": 4,
 "nbformat_minor": 5
}
