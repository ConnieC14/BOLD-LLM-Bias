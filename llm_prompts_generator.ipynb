{
 "cells": [
  {
   "cell_type": "code",
   "execution_count": 1,
   "metadata": {},
   "outputs": [
    {
     "name": "stderr",
     "output_type": "stream",
     "text": [
      "/Users/Connie/Documents/sandbox/BOLD-LLM-Bias/.venv/lib/python3.11/site-packages/tqdm/auto.py:21: TqdmWarning: IProgress not found. Please update jupyter and ipywidgets. See https://ipywidgets.readthedocs.io/en/stable/user_install.html\n",
      "  from .autonotebook import tqdm as notebook_tqdm\n",
      "Map: 100%|██████████| 7201/7201 [00:00<00:00, 9679.86 examples/s] \n"
     ]
    }
   ],
   "source": [
    "from datasets import load_dataset\n",
    "from sklearn.model_selection import train_test_split\n",
    "import tqdm\n",
    "\n",
    "# Read the BOLD JSON files into a dataet\n",
    "bold_prompts = load_dataset(\"AlexaAI/bold\")['train']\n",
    "\n",
    "# Limit prompts to only first instance for model to generate from\n",
    "bold_prompts = bold_prompts.map(lambda example: {\"prompts\": example[\"prompts\"][0]})\n",
    "bold_prompts = bold_prompts.map(lambda example: {\"wikipedia\": example[\"wikipedia\"][0]})"
   ]
  },
  {
   "cell_type": "code",
   "execution_count": 2,
   "metadata": {},
   "outputs": [
    {
     "name": "stdout",
     "output_type": "stream",
     "text": [
      "samples generated: 100\n"
     ]
    }
   ],
   "source": [
    "domains = bold_prompts['domain']\n",
    "\n",
    "# Perform stratified split to ensure domains are all well represented for our evaluation\n",
    "train_indices, _ = train_test_split(range(bold_prompts.num_rows), train_size=100, stratify=domains)\n",
    "\n",
    "# Select 100 samples from the dataset\n",
    "samples = bold_prompts.select(train_indices)\n",
    "\n",
    "print(f\"samples generated: {samples.num_rows}\")"
   ]
  },
  {
   "cell_type": "code",
   "execution_count": 3,
   "metadata": {},
   "outputs": [
    {
     "name": "stderr",
     "output_type": "stream",
     "text": [
      "Saving the dataset (1/1 shards): 100%|██████████| 100/100 [00:00<00:00, 14943.37 examples/s]\n"
     ]
    }
   ],
   "source": [
    "save_path='./prompts/sample_bold_prompts'\n",
    "samples.save_to_disk(save_path)\n"
   ]
  }
 ],
 "metadata": {
  "kernelspec": {
   "display_name": ".venv",
   "language": "python",
   "name": "python3"
  },
  "language_info": {
   "codemirror_mode": {
    "name": "ipython",
    "version": 3
   },
   "file_extension": ".py",
   "mimetype": "text/x-python",
   "name": "python",
   "nbconvert_exporter": "python",
   "pygments_lexer": "ipython3",
   "version": "3.11.4"
  }
 },
 "nbformat": 4,
 "nbformat_minor": 2
}
