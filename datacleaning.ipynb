{
 "cells": [
  {
   "cell_type": "code",
   "execution_count": null,
   "metadata": {},
   "outputs": [],
   "source": [
    "# Import Libraries\n",
    "import pandas as pd\n",
    "# Global Variables\n",
    "REPO_DIR = \".\""
   ]
  },
  {
   "cell_type": "code",
   "execution_count": null,
   "metadata": {},
   "outputs": [],
   "source": [
    "# Read the JSON files into pandas DataFrames\n",
    "gender_prompts = pd.read_json(f'{REPO_DIR}/data/gender_prompt_wiki.json', lines=True)\n",
    "politics_prompts = pd.read_json(f'{REPO_DIR}/data/political_ideology_prompt_wiki.json', lines=True)\n",
    "profession_prompts = pd.read_json(f'{REPO_DIR}/data/profession_prompt_wiki.json', lines=True)\n",
    "race_prompts = pd.read_json(f'{REPO_DIR}/data/race_prompt_wiki.json', lines=True)\n",
    "religion_prompts = pd.read_json(f'{REPO_DIR}/data/religious_ideology_prompt_wiki.json', lines=True)\n",
    "\n",
    "# Get binary subsets from each sensitive feature\n",
    "male = gender_prompts[gender_prompts['category'] == 'American_actors']\n",
    "female = gender_prompts[gender_prompts['category'] == 'American_actresses']\n",
    "gender_prompts = pd.concat([male, female])\n",
    "\n",
    "left = politics_prompts[politics_prompts['category'] == 'left-wing']\n",
    "right = politics_prompts[politics_prompts['category'] == 'right-wing']\n",
    "politics_prompts = pd.concat([left, right])\n",
    "\n",
    "# corp = profession_prompts[profession_prompts['category'] == 'corporate_titles']\n",
    "# ind = profession_prompts[profession_prompts['category'] == 'industrial_occupations']\n",
    "# profession_prompts = pd.concat([corp, ind])\n",
    "\n",
    "# white = race_prompts[race_prompts['category'] == 'European_Americans']\n",
    "# black = race_prompts[race_prompts['category'] == 'African_Americans']\n",
    "# race_prompts = pd.concat([white, black])\n",
    "\n",
    "# christ = religion_prompts[religion_prompts['category'] == 'christianity']\n",
    "# budd = religion_prompts[religion_prompts['category'] == 'buddhism']\n",
    "# religion_prompts = pd.concat([christ, budd])\n",
    "\n",
    "# Concat everything together\n",
    "data_prompts = pd.concat([gender_prompts,\n",
    "                          politics_prompts,\n",
    "                          profession_prompts,\n",
    "                          race_prompts,\n",
    "                          religion_prompts])\n",
    "\n",
    "# Specific categories have various prompt versions, \n",
    "keep_first_two = lambda lst: lst[:2] if (len(lst) > 1)  else lst[0]\n",
    "data_prompts['prompts'] = data_prompts['prompts'].map(keep_first_two)\n",
    "data_prompts['wikipedia'] = data_prompts['wikipedia'].map(keep_first_two)\n",
    "data_prompts = data_prompts.explode('prompts').explode('wikipedia')\n",
    "\n",
    "# Save output\n",
    "save_path=f'{REPO_DIR}/data/cleaned_bold_prompt_wiki.csv'\n",
    "data_prompts.to_csv(save_path, index=False)"
   ]
  }
 ],
 "metadata": {
  "kernelspec": {
   "display_name": "design_fair_algo",
   "language": "python",
   "name": "design_fair_algo"
  },
  "language_info": {
   "name": "python",
   "version": "3.11.0"
  }
 },
 "nbformat": 4,
 "nbformat_minor": 2
}
