{
 "cells": [
  {
   "cell_type": "code",
   "execution_count": 8,
   "metadata": {},
   "outputs": [],
   "source": [
    "# Import Libraries\n",
    "import pandas as pd\n",
    "# Global Variables\n",
    "REPO_DIR = \".\""
   ]
  },
  {
   "cell_type": "code",
   "execution_count": 9,
   "metadata": {},
   "outputs": [],
   "source": [
    "# Read the JSON files into pandas DataFrames\n",
    "gender_prompts = pd.read_json(f'{REPO_DIR}/data/gender_prompt_wiki.json', lines=True)\n",
    "politics_prompts = pd.read_json(f'{REPO_DIR}/data/political_ideology_prompt_wiki.json', lines=True)\n",
    "profession_prompts = pd.read_json(f'{REPO_DIR}/data/profession_prompt_wiki.json', lines=True)\n",
    "race_prompts = pd.read_json(f'{REPO_DIR}/data/race_prompt_wiki.json', lines=True)\n",
    "religion_prompts = pd.read_json(f'{REPO_DIR}/data/religious_ideology_prompt_wiki.json', lines=True)\n",
    "\n",
    "# Concat everything together\n",
    "data_prompts = pd.concat([gender_prompts,\n",
    "                          politics_prompts,\n",
    "                          profession_prompts,\n",
    "                          race_prompts,\n",
    "                          religion_prompts])\n",
    "\n",
    "# Specific categories have various prompt versions, \n",
    "keep_first_two = lambda lst: lst[:2] if (len(lst) > 1)  else lst[0]\n",
    "data_prompts['prompts'] = data_prompts['prompts'].map(keep_first_two)\n",
    "data_prompts['wikipedia'] = data_prompts['wikipedia'].map(keep_first_two)\n",
    "data_prompts = data_prompts.explode('prompts').explode('wikipedia')\n",
    "\n",
    "print(f'There are a total of {data_prompts.shape[0]} samples across {data_prompts.shape[1]}')\n",
    "# Save output\n",
    "save_path=f'{REPO_DIR}/data/cleaned_bold_prompt_wiki.csv'\n",
    "data_prompts.to_csv(save_path, index=False)"
   ]
  },
  {
   "cell_type": "code",
   "execution_count": 15,
   "metadata": {},
   "outputs": [
    {
     "data": {
      "text/plain": [
       "(16357, 5)"
      ]
     },
     "execution_count": 15,
     "metadata": {},
     "output_type": "execute_result"
    }
   ],
   "source": [
    "data_prompts.shape"
   ]
  },
  {
   "cell_type": "code",
   "execution_count": 14,
   "metadata": {},
   "outputs": [
    {
     "data": {
      "text/plain": [
       "[category\n",
       " American_actors       2343\n",
       " American_actresses    1340\n",
       " Name: count, dtype: int64,\n",
       " category\n",
       " nationalism     364\n",
       " democracy       211\n",
       " socialism       160\n",
       " anarchism       134\n",
       " left-wing        88\n",
       " conservatism     80\n",
       " liberalism       79\n",
       " communism        70\n",
       " fascism          56\n",
       " right-wing       49\n",
       " capitalism       47\n",
       " populism         24\n",
       " Name: count, dtype: int64,\n",
       " category\n",
       " engineering_branches               878\n",
       " sewing_occupations                 356\n",
       " dance_occupations                  316\n",
       " theatre_personnel                  305\n",
       " nursing_specialties                257\n",
       " scientific_occupations             243\n",
       " healthcare_occupations             175\n",
       " metalworking_occupations           160\n",
       " entertainer_occupations            151\n",
       " artistic_occupations               128\n",
       " computer_occupations               115\n",
       " corporate_titles                   108\n",
       " writing_occupations                106\n",
       " film_and_television_occupations     89\n",
       " industrial_occupations              71\n",
       " railway_industry_occupations        62\n",
       " mental_health_occupations           49\n",
       " professional_driver_types           21\n",
       " Name: count, dtype: int64,\n",
       " category\n",
       " European_Americans               4849\n",
       " African_Americans                1723\n",
       " Asian_Americans                   801\n",
       " Hispanic_and_Latino_Americans      92\n",
       " Name: count, dtype: int64,\n",
       " category\n",
       " christianity    71\n",
       " buddhism        61\n",
       " islam           44\n",
       " judaism         42\n",
       " hinduism        19\n",
       " sikhism         16\n",
       " atheism          4\n",
       " Name: count, dtype: int64]"
      ]
     },
     "execution_count": 14,
     "metadata": {},
     "output_type": "execute_result"
    }
   ],
   "source": [
    "[data_prompts[data_prompts['domain'] == d]['category'].value_counts() for d in data_prompts['domain'].unique()]"
   ]
  }
 ],
 "metadata": {
  "kernelspec": {
   "display_name": "design_fair_algo",
   "language": "python",
   "name": "design_fair_algo"
  },
  "language_info": {
   "codemirror_mode": {
    "name": "ipython",
    "version": 3
   },
   "file_extension": ".py",
   "mimetype": "text/x-python",
   "name": "python",
   "nbconvert_exporter": "python",
   "pygments_lexer": "ipython3",
   "version": "3.11.0"
  }
 },
 "nbformat": 4,
 "nbformat_minor": 2
}
