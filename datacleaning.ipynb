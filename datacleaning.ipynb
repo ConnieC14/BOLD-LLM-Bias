{
 "cells": [
  {
   "cell_type": "code",
   "execution_count": 8,
   "metadata": {},
   "outputs": [],
   "source": [
    "# Import Libraries\n",
    "import pandas as pd\n",
    "# Global Variables\n",
    "REPO_DIR = \".\""
   ]
  },
  {
   "cell_type": "code",
   "execution_count": 16,
   "metadata": {},
   "outputs": [
    {
     "name": "stdout",
     "output_type": "stream",
     "text": [
      "There are a total of 16357 samples across 5 domains\n"
     ]
    }
   ],
   "source": [
    "# Read the JSON files into pandas DataFrames\n",
    "gender_prompts = pd.read_json(f'{REPO_DIR}/data/gender_prompt_wiki.json', lines=True)\n",
    "politics_prompts = pd.read_json(f'{REPO_DIR}/data/political_ideology_prompt_wiki.json', lines=True)\n",
    "profession_prompts = pd.read_json(f'{REPO_DIR}/data/profession_prompt_wiki.json', lines=True)\n",
    "race_prompts = pd.read_json(f'{REPO_DIR}/data/race_prompt_wiki.json', lines=True)\n",
    "religion_prompts = pd.read_json(f'{REPO_DIR}/data/religious_ideology_prompt_wiki.json', lines=True)\n",
    "\n",
    "# Concat everything together\n",
    "data_prompts = pd.concat([gender_prompts,\n",
    "                          politics_prompts,\n",
    "                          profession_prompts,\n",
    "                          race_prompts,\n",
    "                          religion_prompts])\n",
    "\n",
    "# Specific categories have various prompt versions, \n",
    "keep_first_two = lambda lst: lst[:2] if (len(lst) > 1)  else lst[0]\n",
    "data_prompts['prompts'] = data_prompts['prompts'].map(keep_first_two)\n",
    "data_prompts['wikipedia'] = data_prompts['wikipedia'].map(keep_first_two)\n",
    "data_prompts = data_prompts.explode('prompts').explode('wikipedia')\n",
    "\n",
    "print(f'There are a total of {data_prompts.shape[0]} samples across {data_prompts.shape[1]} domains')\n",
    "# Save output\n",
    "save_path=f'{REPO_DIR}/data/cleaned_bold_prompt_wiki.csv'\n",
    "data_prompts.to_csv(save_path, index=False)"
   ]
  }
 ],
 "metadata": {
  "kernelspec": {
   "display_name": "design_fair_algo",
   "language": "python",
   "name": "design_fair_algo"
  },
  "language_info": {
   "codemirror_mode": {
    "name": "ipython",
    "version": 3
   },
   "file_extension": ".py",
   "mimetype": "text/x-python",
   "name": "python",
   "nbconvert_exporter": "python",
   "pygments_lexer": "ipython3",
   "version": "3.11.0"
  }
 },
 "nbformat": 4,
 "nbformat_minor": 2
}
