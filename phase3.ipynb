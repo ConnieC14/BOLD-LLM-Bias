{
 "cells": [
  {
   "cell_type": "markdown",
   "metadata": {},
   "source": [
    "# Introduction\n",
    "\n",
    "What is/are your research question(s)?\n",
    "\n",
    "i. What is your hypothesis (defining input and output variables, and\n",
    "sensitive features of interest), and how will you measure it (methods &\n",
    "evaluation metric)? Examples (we do not expect you to copy the below\n",
    "word-for-word):\n",
    "\n",
    "Research Question: We measure GPT-3 on a modified\n",
    "Wikipedia: true, human community\n",
    "GPT-3.5: live debiasing?\n",
    "LLAMA-7-70b-chat, MISTRAL-7B v0.2 <- not live updated"
   ]
  },
  {
   "cell_type": "markdown",
   "metadata": {},
   "source": [
    "Why is this an interesting / important research question? How does it relate to algorithmic fairness?\n",
    "\n",
    "As LLMs continue to come out on a rapid pace, it is is important to "
   ]
  },
  {
   "cell_type": "markdown",
   "metadata": {},
   "source": [
    "What related work has been done in space?\n"
   ]
  },
  {
   "cell_type": "markdown",
   "metadata": {},
   "source": [
    "## Datasheet\n",
    "\n",
    "Following Datasheets for Datasets, answer these priority questions for each of\n",
    "the datasets used for your project (you may answer more Datasheets questions if\n",
    "relevant):\n",
    "\n",
    "## What are the observations (rows) and the attributes (columns)?\n",
    "\n",
    "**ii. Why was this dataset created?**\n",
    "\n",
    "**iii. Who funded the creation of the dataset?**\n",
    "\n",
    "**iv. What processes might have influenced what data was observed and recorded and what was not?**\n",
    "\n",
    "**v. What preprocessing was done, and how did the data come to be in the form that you are using?**\n",
    "\n",
    "**vi. If people are involved, were they aware of the data collection and if so,what purpose did they expect the data to be used for?**\n",
    "\n",
    "**vii. Where can your raw source data be found, if applicable? Provide a public link to the raw data (if not available on a public URL, then provide a link hosted on Github, in a Cornell Google Drive or Cornell Box)**\n",
    "\n",
    "The raw data source is here:\n"
   ]
  },
  {
   "cell_type": "markdown",
   "metadata": {},
   "source": [
    "## Cleaned Data Imports\n",
    "\n",
    "Directly import a cleaned data file (.csv). You should have a separate ipynb called\n",
    "“datacleaning.ipynb” that otherwise takes the data and does all of the relevant\n",
    "data merging from Phase 2, and/or any other cleaning you’ve iterated on since\n",
    "then.\n",
    "\n",
    "b. In a markdown cell, describe the cleaning steps taken in the other ipynb."
   ]
  },
  {
   "cell_type": "code",
   "execution_count": null,
   "metadata": {},
   "outputs": [],
   "source": [
    "# import cleaned csv here"
   ]
  },
  {
   "cell_type": "markdown",
   "metadata": {},
   "source": [
    "## Summarize the Data\n",
    "\n",
    "In code cells, present the most relevant statistics (presented either in table format\n",
    "or figure format) about your data as related to your research question. In\n",
    "corresponding markdown cells for each of these tables/figures, explain what the\n",
    "statistics mean and why they’re important to consider with respect to your\n",
    "research question / hypotheses.\n",
    "\n",
    "i. Tables and figures must be understandable, well-formatted (e.g. with\n",
    "labeled axes) and clearly readable.\n",
    "\n",
    "ii. We expect to see a count of table/figures comparable to the # group\n",
    "members, but more / fewer can be included as long as it is justified why\n",
    "you do not need to present additional statistics as are relevant to the\n",
    "project."
   ]
  },
  {
   "cell_type": "markdown",
   "metadata": {},
   "source": []
  },
  {
   "cell_type": "markdown",
   "metadata": {},
   "source": [
    "## Model"
   ]
  },
  {
   "cell_type": "markdown",
   "metadata": {},
   "source": [
    "Pick the most relevant analyses that support your hypotheses presented in\n",
    "section 1. Run the relevant analyses to answer your hypotheses.\n",
    "\n",
    "If a model answers your research question but is not performing well, it is\n",
    "acceptable to include it (assuming you are unable to generate a\n",
    "better-performing model, and provide explanation for why your model is\n",
    "not performing as well as expected).\n",
    "\n",
    "1. If a model does not answer your research question and is not\n",
    "performing well, it should be excluded from this Phase 3\n",
    "submission.\n",
    "ii. You should report evaluation metrics for each model, including by\n",
    "subgroup (for your sensitive attribute(s) of interest).\n",
    "\n",
    "1. If applicable, you should also include significance testing (e.g.,\n",
    "report p-values).\n",
    "iii. You should include informative plot(s) about your models.\n",
    "\n",
    "1. E.g., you could plot ROC curves, or comparisons of fairness\n",
    "metrics and/or performance across different models"
   ]
  },
  {
   "cell_type": "markdown",
   "metadata": {},
   "source": [
    "## Results\n",
    "Interpret the results from Section 5.\n",
    "\n",
    "i. Do your model estimates seem reasonable? Why or why not? (eg., provide examples of some model predictions like “for a 30 year old female\n",
    "patient, our model predicts x% risk, whereas for a 30 year old male\n",
    "patient, our model predicts y% risk”)\n",
    "\n",
    "ii. What can you say about your model performance (e.g., based on the\n",
    "evaluation metrics you calculated)?\n",
    "\n",
    "b. How do your results support or reject your hypotheses from Section 1?"
   ]
  },
  {
   "cell_type": "markdown",
   "metadata": {},
   "source": [
    "## Conclusions & Limitations\n",
    "a. Summarize your hypotheses and what your analyses/modeling found.\n",
    "b. Describe the limitations of:\n",
    "i. Your data\n",
    "ii. Your modeling\n",
    "iii. Your analysis\n",
    "iv. Any other choices you may have made when working on this project\n",
    "1. Comment on the validity / reliability of your assumptions"
   ]
  },
  {
   "cell_type": "markdown",
   "metadata": {},
   "source": [
    "## Contribution Notes\n",
    "For each team member’s name, specify what their contributions were to this\n",
    "Phase 3 submission."
   ]
  },
  {
   "cell_type": "markdown",
   "metadata": {},
   "source": [
    "## Sources cited (markdown cell)\n",
    "a. Must include a citation of the data source(s) in ACM format.\n",
    "b. Must include links to any sources used to assist with coding (do not need to be in\n",
    "ACM format). Remember, any use of generative AI tools such as ChatGPT must\n",
    "be cited including the query used, the answer output, and why you think the\n",
    "answer is correct.\n"
   ]
  },
  {
   "cell_type": "markdown",
   "metadata": {},
   "source": []
  }
 ],
 "metadata": {
  "language_info": {
   "name": "python"
  }
 },
 "nbformat": 4,
 "nbformat_minor": 2
}
