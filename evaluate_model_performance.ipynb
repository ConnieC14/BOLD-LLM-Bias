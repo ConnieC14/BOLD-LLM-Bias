{
 "cells": [
  {
   "cell_type": "code",
   "execution_count": 1,
   "metadata": {},
   "outputs": [
    {
     "name": "stdout",
     "output_type": "stream",
     "text": [
      "Collecting seaborn\n",
      "  Using cached seaborn-0.13.2-py3-none-any.whl.metadata (5.4 kB)\n",
      "Requirement already satisfied: numpy!=1.24.0,>=1.20 in /Users/Connie/anaconda3/design_fair_algo/lib/python3.11/site-packages (from seaborn) (1.26.3)\n",
      "Requirement already satisfied: pandas>=1.2 in /Users/Connie/anaconda3/design_fair_algo/lib/python3.11/site-packages (from seaborn) (2.1.1)\n",
      "Requirement already satisfied: matplotlib!=3.6.1,>=3.4 in /Users/Connie/anaconda3/design_fair_algo/lib/python3.11/site-packages (from seaborn) (3.8.3)\n",
      "Requirement already satisfied: contourpy>=1.0.1 in /Users/Connie/anaconda3/design_fair_algo/lib/python3.11/site-packages (from matplotlib!=3.6.1,>=3.4->seaborn) (1.2.0)\n",
      "Requirement already satisfied: cycler>=0.10 in /Users/Connie/anaconda3/design_fair_algo/lib/python3.11/site-packages (from matplotlib!=3.6.1,>=3.4->seaborn) (0.12.1)\n",
      "Requirement already satisfied: fonttools>=4.22.0 in /Users/Connie/anaconda3/design_fair_algo/lib/python3.11/site-packages (from matplotlib!=3.6.1,>=3.4->seaborn) (4.49.0)\n",
      "Requirement already satisfied: kiwisolver>=1.3.1 in /Users/Connie/anaconda3/design_fair_algo/lib/python3.11/site-packages (from matplotlib!=3.6.1,>=3.4->seaborn) (1.4.5)\n",
      "Requirement already satisfied: packaging>=20.0 in /Users/Connie/anaconda3/design_fair_algo/lib/python3.11/site-packages (from matplotlib!=3.6.1,>=3.4->seaborn) (23.1)\n",
      "Requirement already satisfied: pillow>=8 in /Users/Connie/anaconda3/design_fair_algo/lib/python3.11/site-packages (from matplotlib!=3.6.1,>=3.4->seaborn) (10.2.0)\n",
      "Requirement already satisfied: pyparsing>=2.3.1 in /Users/Connie/anaconda3/design_fair_algo/lib/python3.11/site-packages (from matplotlib!=3.6.1,>=3.4->seaborn) (3.1.2)\n",
      "Requirement already satisfied: python-dateutil>=2.7 in /Users/Connie/anaconda3/design_fair_algo/lib/python3.11/site-packages (from matplotlib!=3.6.1,>=3.4->seaborn) (2.8.2)\n",
      "Requirement already satisfied: pytz>=2020.1 in /Users/Connie/anaconda3/design_fair_algo/lib/python3.11/site-packages (from pandas>=1.2->seaborn) (2023.3.post1)\n",
      "Requirement already satisfied: tzdata>=2022.1 in /Users/Connie/anaconda3/design_fair_algo/lib/python3.11/site-packages (from pandas>=1.2->seaborn) (2023.3)\n",
      "Requirement already satisfied: six>=1.5 in /Users/Connie/anaconda3/design_fair_algo/lib/python3.11/site-packages (from python-dateutil>=2.7->matplotlib!=3.6.1,>=3.4->seaborn) (1.16.0)\n",
      "Using cached seaborn-0.13.2-py3-none-any.whl (294 kB)\n",
      "Installing collected packages: seaborn\n",
      "Successfully installed seaborn-0.13.2\n",
      "Requirement already satisfied: matplotlib in /Users/Connie/anaconda3/design_fair_algo/lib/python3.11/site-packages (3.8.3)\n",
      "Requirement already satisfied: contourpy>=1.0.1 in /Users/Connie/anaconda3/design_fair_algo/lib/python3.11/site-packages (from matplotlib) (1.2.0)\n",
      "Requirement already satisfied: cycler>=0.10 in /Users/Connie/anaconda3/design_fair_algo/lib/python3.11/site-packages (from matplotlib) (0.12.1)\n",
      "Requirement already satisfied: fonttools>=4.22.0 in /Users/Connie/anaconda3/design_fair_algo/lib/python3.11/site-packages (from matplotlib) (4.49.0)\n",
      "Requirement already satisfied: kiwisolver>=1.3.1 in /Users/Connie/anaconda3/design_fair_algo/lib/python3.11/site-packages (from matplotlib) (1.4.5)\n",
      "Requirement already satisfied: numpy<2,>=1.21 in /Users/Connie/anaconda3/design_fair_algo/lib/python3.11/site-packages (from matplotlib) (1.26.3)\n",
      "Requirement already satisfied: packaging>=20.0 in /Users/Connie/anaconda3/design_fair_algo/lib/python3.11/site-packages (from matplotlib) (23.1)\n",
      "Requirement already satisfied: pillow>=8 in /Users/Connie/anaconda3/design_fair_algo/lib/python3.11/site-packages (from matplotlib) (10.2.0)\n",
      "Requirement already satisfied: pyparsing>=2.3.1 in /Users/Connie/anaconda3/design_fair_algo/lib/python3.11/site-packages (from matplotlib) (3.1.2)\n",
      "Requirement already satisfied: python-dateutil>=2.7 in /Users/Connie/anaconda3/design_fair_algo/lib/python3.11/site-packages (from matplotlib) (2.8.2)\n",
      "Requirement already satisfied: six>=1.5 in /Users/Connie/anaconda3/design_fair_algo/lib/python3.11/site-packages (from python-dateutil>=2.7->matplotlib) (1.16.0)\n",
      "Requirement already satisfied: tqdm in /Users/Connie/anaconda3/design_fair_algo/lib/python3.11/site-packages (4.66.2)\n"
     ]
    }
   ],
   "source": [
    "! pip install datasets transformers evaluate -q\n",
    "! pip install seaborn\n",
    "! pip install matplotlib\n",
    "! pip install tqdm"
   ]
  },
  {
   "cell_type": "code",
   "execution_count": 2,
   "metadata": {},
   "outputs": [],
   "source": [
    "# import os\n",
    "# os.environ['PYDEVD_DISABLE_FILE_VALIDATION']='1'"
   ]
  },
  {
   "cell_type": "code",
   "execution_count": 3,
   "metadata": {},
   "outputs": [
    {
     "name": "stderr",
     "output_type": "stream",
     "text": [
      "/Users/Connie/anaconda3/design_fair_algo/lib/python3.11/site-packages/tqdm/auto.py:21: TqdmWarning: IProgress not found. Please update jupyter and ipywidgets. See https://ipywidgets.readthedocs.io/en/stable/user_install.html\n",
      "  from .autonotebook import tqdm as notebook_tqdm\n",
      "2024-03-14 12:02:02.990334: I tensorflow/core/platform/cpu_feature_guard.cc:210] This TensorFlow binary is optimized to use available CPU instructions in performance-critical operations.\n",
      "To enable the following instructions: AVX2 FMA, in other operations, rebuild TensorFlow with the appropriate compiler flags.\n"
     ]
    }
   ],
   "source": [
    "from datasets import load_from_disk\n",
    "import evaluate\n",
    "import tqdm\n",
    "import json"
   ]
  },
  {
   "cell_type": "markdown",
   "metadata": {},
   "source": [
    "## Load Model Outputs"
   ]
  },
  {
   "cell_type": "code",
   "execution_count": null,
   "metadata": {},
   "outputs": [],
   "source": [
    "load_from_disk('.prompts/prompts_meta-llama')"
   ]
  },
  {
   "cell_type": "code",
   "execution_count": 10,
   "metadata": {},
   "outputs": [
    {
     "name": "stderr",
     "output_type": "stream",
     "text": [
      "100%|██████████| 4/4 [00:00<00:00, 74.51it/s]"
     ]
    },
    {
     "name": "stdout",
     "output_type": "stream",
     "text": [
      "loading gpt2 model...\n",
      "loading gpt-3.5-turbo model...\n",
      "loading meta-llama/Llama-2-7b-chat-hf model...\n",
      "loading mistralai/Mistral-7B-v0.1 model...\n"
     ]
    },
    {
     "name": "stderr",
     "output_type": "stream",
     "text": [
      "\n"
     ]
    }
   ],
   "source": [
    "models = [\"gpt2\", \"gpt-3.5-turbo\", \"meta-llama/Llama-2-7b-chat-hf\", \"mistralai/Mistral-7B-v0.1\"]\n",
    "\n",
    "load_path='./prompts/sample_bold_prompts'\n",
    "bold_prompts = load_from_disk(load_path)\n",
    "\n",
    "for model in tqdm.tqdm(models):\n",
    "    print(f'loading {model} model...')\n",
    "    # Read each model's json file into a dataset\n",
    "    load_path=f'./generated_data/prompts_{model}'\n",
    "    model_prompts = load_from_disk(load_path)\n",
    "\n",
    "    column = f'generated_prompts_{model}'\n",
    "    if 'llama' in column:\n",
    "        column = 'generated_prompts_daryl149/llama-2-7b-chat-hf'\n",
    "    bold_prompts = bold_prompts.add_column(column, model_prompts[column])\n"
   ]
  },
  {
   "cell_type": "markdown",
   "metadata": {},
   "source": [
    "### Evaluate Dataframe"
   ]
  },
  {
   "cell_type": "code",
   "execution_count": 15,
   "metadata": {},
   "outputs": [
    {
     "name": "stderr",
     "output_type": "stream",
     "text": [
      "  0%|          | 0/4 [00:00<?, ?it/s]Using default facebook/roberta-hate-speech-dynabench-r4-target checkpoint\n",
      " 25%|██▌       | 1/4 [00:12<00:37, 12.52s/it]Using default facebook/roberta-hate-speech-dynabench-r4-target checkpoint\n",
      " 50%|█████     | 2/4 [00:23<00:23, 11.75s/it]Using default facebook/roberta-hate-speech-dynabench-r4-target checkpoint\n",
      " 75%|███████▌  | 3/4 [00:32<00:10, 10.54s/it]Using default facebook/roberta-hate-speech-dynabench-r4-target checkpoint\n",
      "100%|██████████| 4/4 [00:43<00:00, 10.78s/it]\n"
     ]
    }
   ],
   "source": [
    "# Convert dataset to pandas dataframe\n",
    "prompts_df = bold_prompts.to_pandas()\n",
    "\n",
    "# Calculate toxicity for each model we generated prompts for\n",
    "for model in tqdm.tqdm(models):\n",
    "  column = f'generated_prompts_{model}'\n",
    "  if 'llama' in column:\n",
    "        column = 'generated_prompts_daryl149/llama-2-7b-chat-hf'\n",
    "  model_generations = prompts_df[column]\n",
    "  toxicity = evaluate.load(\"toxicity\")\n",
    "  \n",
    "  # Evaluate toxicity and save it in a new column to our dataframe\n",
    "  tox_list= []\n",
    "  all_toxicity = toxicity.compute(predictions=model_generations)\n",
    "  for text, score in zip(model_generations, all_toxicity['toxicity']):\n",
    "    tox_list.append(score)\n",
    "\n",
    "  column = f'{model}_toxicity'\n",
    "  prompts_df[column] = tox_list"
   ]
  },
  {
   "cell_type": "code",
   "execution_count": 18,
   "metadata": {},
   "outputs": [
    {
     "name": "stderr",
     "output_type": "stream",
     "text": [
      "100%|██████████| 4/4 [00:00<00:00, 2813.08it/s]"
     ]
    },
    {
     "name": "stdout",
     "output_type": "stream",
     "text": [
      "Toxicity in GPT2:\n",
      "\tMean: 0.0027747044402349273, Min: 0.00013897562166675925, Max: 0.07529433071613312\n",
      "Toxicity in GPT-3.5-TURBO:\n",
      "\tMean: 0.0002957358457206283, Min: 0.0001345714699709788, Max: 0.0025712226051837206\n",
      "Toxicity in META-LLAMA/LLAMA-2-7B-CHAT-HF:\n",
      "\tMean: 0.002299151374027133, Min: 0.00013731574290432036, Max: 0.07898888736963272\n",
      "Toxicity in MISTRALAI/MISTRAL-7B-V0.1:\n",
      "\tMean: 0.010170365174708422, Min: 0.0001351107202935964, Max: 0.813166081905365\n"
     ]
    },
    {
     "name": "stderr",
     "output_type": "stream",
     "text": [
      "\n"
     ]
    }
   ],
   "source": [
    "# Print out toxicity statistics across each model\n",
    "for model in tqdm.tqdm(models):\n",
    "    column = f'{model}_toxicity'\n",
    "\n",
    "    tox_col = prompts_df[column] \n",
    "    \n",
    "    print(f\"Toxicity in {model.upper()}:\\n\\tMean: {tox_col.mean()}, Min: {tox_col.min()}, Max: {tox_col.max()}\")\n"
   ]
  },
  {
   "cell_type": "markdown",
   "metadata": {},
   "source": [
    "### Evaluate across sensitive attributes for each model"
   ]
  },
  {
   "cell_type": "code",
   "execution_count": 20,
   "metadata": {},
   "outputs": [
    {
     "name": "stderr",
     "output_type": "stream",
     "text": [
      "100%|██████████| 4/4 [00:00<00:00, 31.39it/s]"
     ]
    },
    {
     "name": "stdout",
     "output_type": "stream",
     "text": [
      "Toxicity in GPT2:\n",
      "\tGender\n",
      "\t\tAmerican_actresses\n",
      "\t\t\tMean: 0.004719093057792634, Min: 0.00013897562166675925, Max: 0.035027820616960526\n",
      "\t\tAmerican_actors\n",
      "\t\t\tMean: 0.00031999638142426394, Min: 0.00014411027950700372, Max: 0.0007681747083552182\n",
      "\tRace\n",
      "\t\tEuropean_americans\n",
      "\t\t\tMean: 0.0006561447097248255, Min: 0.00014989369083195925, Max: 0.0037868963554501534\n",
      "\t\tAfrican_americans\n",
      "\t\t\tMean: 0.005371448495679942, Min: 0.00015370741311926395, Max: 0.03273557126522064\n",
      "\t\tAsian_americans\n",
      "\t\t\tMean: 0.0009949540253728628, Min: 0.0009949540253728628, Max: 0.0009949540253728628\n",
      "\t\tHispanic_and_latino_americans\n",
      "\t\t\tMean: 0.0008315099403262138, Min: 0.0008315099403262138, Max: 0.0008315099403262138\n",
      "\tProfession\n",
      "\t\tEngineering_branches\n",
      "\t\t\tMean: 0.00026205381800537, Min: 0.00016257060633506626, Max: 0.00040432382957078516\n",
      "\t\tScientific_occupations\n",
      "\t\t\tMean: 0.00020681380556197837, Min: 0.0001796147698769346, Max: 0.00023401284124702215\n",
      "\t\tComputer_occupations\n",
      "\t\t\tMean: 0.00026894424809142947, Min: 0.00026894424809142947, Max: 0.00026894424809142947\n",
      "\t\tMental_health_occupations\n",
      "\t\t\tMean: 0.0033334057952743024, Min: 0.0004053264274261892, Max: 0.0062614851631224155\n",
      "\t\tEntertainer_occupations\n",
      "\t\t\tMean: 0.00021936777920927852, Min: 0.00021936777920927852, Max: 0.00021936777920927852\n",
      "\t\tNursing_specialties\n",
      "\t\t\tMean: 0.00035213882802054286, Min: 0.00035213882802054286, Max: 0.00035213882802054286\n",
      "\t\tHealthcare_occupations\n",
      "\t\t\tMean: 0.0009340389903324345, Min: 0.0004028007388114929, Max: 0.0015245743561536074\n",
      "\t\tWriting_occupations\n",
      "\t\t\tMean: 0.0011125511955469847, Min: 0.0011125511955469847, Max: 0.0011125511955469847\n",
      "\tPolitical_ideology\n",
      "\t\tLiberalism\n",
      "\t\t\tMean: 0.003252263704780489, Min: 0.0004909668350592256, Max: 0.006013560574501753\n",
      "\t\tNationalism\n",
      "\t\t\tMean: 0.00023349015827989206, Min: 0.00022915552835911512, Max: 0.000237824788200669\n",
      "\t\tAnarchism\n",
      "\t\t\tMean: 0.00030220764892874286, Min: 0.00017741545161698014, Max: 0.0004269998462405056\n",
      "\t\tRight-wing\n",
      "\t\t\tMean: 0.07529433071613312, Min: 0.07529433071613312, Max: 0.07529433071613312\n",
      "\tReligious_ideology\n",
      "\t\tSikhism\n",
      "\t\t\tMean: 0.00034068370587192476, Min: 0.00034068370587192476, Max: 0.00034068370587192476\n",
      "Toxicity in GPT-3.5-TURBO:\n",
      "\tGender\n",
      "\t\tAmerican_actresses\n",
      "\t\t\tMean: 0.0003068054880714044, Min: 0.0001501676597399637, Max: 0.0006898347055539489\n",
      "\t\tAmerican_actors\n",
      "\t\t\tMean: 0.00028843681825997517, Min: 0.00015423067088704556, Max: 0.0018691319273784757\n",
      "\tRace\n",
      "\t\tEuropean_americans\n",
      "\t\t\tMean: 0.00038941756065469235, Min: 0.00013962277444079518, Max: 0.0025712226051837206\n",
      "\t\tAfrican_americans\n",
      "\t\t\tMean: 0.0002662799852259923, Min: 0.00014568939513992518, Max: 0.0007575171184726059\n",
      "\t\tAsian_americans\n",
      "\t\t\tMean: 0.00028147909324616194, Min: 0.00028147909324616194, Max: 0.00028147909324616194\n",
      "\t\tHispanic_and_latino_americans\n",
      "\t\t\tMean: 0.0001345714699709788, Min: 0.0001345714699709788, Max: 0.0001345714699709788\n",
      "\tProfession\n",
      "\t\tEngineering_branches\n",
      "\t\t\tMean: 0.00014791540525038727, Min: 0.00014155771350488067, Max: 0.00015216383326333016\n",
      "\t\tScientific_occupations\n",
      "\t\t\tMean: 0.00016525034880032763, Min: 0.00014051735342945904, Max: 0.00018998334417119622\n",
      "\t\tComputer_occupations\n",
      "\t\t\tMean: 0.00017421973461750895, Min: 0.00017421973461750895, Max: 0.00017421973461750895\n",
      "\t\tMental_health_occupations\n",
      "\t\t\tMean: 0.00016585533012403175, Min: 0.00015981619071681052, Max: 0.00017189446953125298\n",
      "\t\tEntertainer_occupations\n",
      "\t\t\tMean: 0.0001586798025527969, Min: 0.0001586798025527969, Max: 0.0001586798025527969\n",
      "\t\tNursing_specialties\n",
      "\t\t\tMean: 0.000220238565816544, Min: 0.000220238565816544, Max: 0.000220238565816544\n",
      "\t\tHealthcare_occupations\n",
      "\t\t\tMean: 0.00019225446643152586, Min: 0.00014056293002795428, Max: 0.00025705178268253803\n",
      "\t\tWriting_occupations\n",
      "\t\t\tMean: 0.00015793845523148775, Min: 0.00015793845523148775, Max: 0.00015793845523148775\n",
      "\tPolitical_ideology\n",
      "\t\tLiberalism\n",
      "\t\t\tMean: 0.00047006849490571767, Min: 0.00033007716410793364, Max: 0.0006100598257035017\n",
      "\t\tNationalism\n",
      "\t\t\tMean: 0.00017285194917349145, Min: 0.00014536577509716153, Max: 0.00020033812324982136\n",
      "\t\tAnarchism\n",
      "\t\t\tMean: 0.00020950176258338615, Min: 0.0001940258516697213, Max: 0.000224977673497051\n",
      "\t\tRight-wing\n",
      "\t\t\tMean: 0.00022651447216048837, Min: 0.00022651447216048837, Max: 0.00022651447216048837\n",
      "\tReligious_ideology\n",
      "\t\tSikhism\n",
      "\t\t\tMean: 0.0005051807966083288, Min: 0.0005051807966083288, Max: 0.0005051807966083288\n",
      "Toxicity in META-LLAMA/LLAMA-2-7B-CHAT-HF:\n",
      "\tGender\n",
      "\t\tAmerican_actresses\n",
      "\t\t\tMean: 0.0010880901565542445, Min: 0.00015819197869859636, Max: 0.004617360886186361\n",
      "\t\tAmerican_actors\n",
      "\t\t\tMean: 0.0002870915025899497, Min: 0.00014527002349495888, Max: 0.0007371134706772864\n",
      "\tRace\n",
      "\t\tEuropean_americans\n",
      "\t\t\tMean: 0.0007133927490660705, Min: 0.00013731574290432036, Max: 0.003990193363279104\n",
      "\t\tAfrican_americans\n",
      "\t\t\tMean: 0.000790388436143985, Min: 0.0001464282104279846, Max: 0.007165963761508465\n",
      "\t\tAsian_americans\n",
      "\t\t\tMean: 0.00029025491676293314, Min: 0.00029025491676293314, Max: 0.00029025491676293314\n",
      "\t\tHispanic_and_latino_americans\n",
      "\t\t\tMean: 0.00039393367478623986, Min: 0.00039393367478623986, Max: 0.00039393367478623986\n",
      "\tProfession\n",
      "\t\tEngineering_branches\n",
      "\t\t\tMean: 0.00022269098917604424, Min: 0.00015236464969348162, Max: 0.00038631577626802027\n",
      "\t\tScientific_occupations\n",
      "\t\t\tMean: 0.0006346036097966135, Min: 0.00016659032553434372, Max: 0.0011026168940588832\n",
      "\t\tComputer_occupations\n",
      "\t\t\tMean: 0.0002747940015979111, Min: 0.0002747940015979111, Max: 0.0002747940015979111\n",
      "\t\tMental_health_occupations\n",
      "\t\t\tMean: 0.006742651174135972, Min: 0.00016644237621221691, Max: 0.013318859972059727\n",
      "\t\tEntertainer_occupations\n",
      "\t\t\tMean: 0.00017466537246946245, Min: 0.00017466537246946245, Max: 0.00017466537246946245\n",
      "\t\tNursing_specialties\n",
      "\t\t\tMean: 0.0002930731570813805, Min: 0.0002930731570813805, Max: 0.0002930731570813805\n",
      "\t\tHealthcare_occupations\n",
      "\t\t\tMean: 0.026578629680443555, Min: 0.00026750267716124654, Max: 0.07898888736963272\n",
      "\t\tWriting_occupations\n",
      "\t\t\tMean: 0.00016215616778936237, Min: 0.00016215616778936237, Max: 0.00016215616778936237\n",
      "\tPolitical_ideology\n",
      "\t\tLiberalism\n",
      "\t\t\tMean: 0.00020030354789923877, Min: 0.00018851882487069815, Max: 0.00021208827092777938\n",
      "\t\tNationalism\n",
      "\t\t\tMean: 0.0007002598067629151, Min: 0.0001616886438569054, Max: 0.0012388309696689248\n",
      "\t\tAnarchism\n",
      "\t\t\tMean: 0.0003743212146218866, Min: 0.00034866403439082205, Max: 0.00039997839485295117\n",
      "\t\tRight-wing\n",
      "\t\t\tMean: 0.00019649416208267212, Min: 0.00019649416208267212, Max: 0.00019649416208267212\n",
      "\tReligious_ideology\n",
      "\t\tSikhism\n",
      "\t\t\tMean: 0.07751540839672089, Min: 0.07751540839672089, Max: 0.07751540839672089\n",
      "Toxicity in MISTRALAI/MISTRAL-7B-V0.1:\n",
      "\tGender\n",
      "\t\tAmerican_actresses\n",
      "\t\t\tMean: 0.0017928533682910104, Min: 0.00018431595526635647, Max: 0.012847954407334328\n",
      "\t\tAmerican_actors\n",
      "\t\t\tMean: 0.000844062602684264, Min: 0.00014511082554236054, Max: 0.0030090888030827045\n",
      "\tRace\n",
      "\t\tEuropean_americans\n",
      "\t\t\tMean: 0.03252306605785494, Min: 0.0001351107202935964, Max: 0.813166081905365\n",
      "\t\tAfrican_americans\n",
      "\t\t\tMean: 0.002078686366985494, Min: 0.0001922678347909823, Max: 0.006641760468482971\n",
      "\t\tAsian_americans\n",
      "\t\t\tMean: 0.0005712127895094454, Min: 0.0005712127895094454, Max: 0.0005712127895094454\n",
      "\t\tHispanic_and_latino_americans\n",
      "\t\t\tMean: 0.000700872391462326, Min: 0.000700872391462326, Max: 0.000700872391462326\n",
      "\tProfession\n",
      "\t\tEngineering_branches\n",
      "\t\t\tMean: 0.000506172716995934, Min: 0.0002361882507102564, Max: 0.0011660263407975435\n",
      "\t\tScientific_occupations\n",
      "\t\t\tMean: 0.000513296210556291, Min: 0.00047353238915093243, Max: 0.0005530600319616497\n",
      "\t\tComputer_occupations\n",
      "\t\t\tMean: 0.00025647011352702975, Min: 0.00025647011352702975, Max: 0.00025647011352702975\n",
      "\t\tMental_health_occupations\n",
      "\t\t\tMean: 0.023986234300537035, Min: 0.0005543361767195165, Max: 0.04741813242435455\n",
      "\t\tEntertainer_occupations\n",
      "\t\t\tMean: 0.027521183714270592, Min: 0.027521183714270592, Max: 0.027521183714270592\n",
      "\t\tNursing_specialties\n",
      "\t\t\tMean: 0.006976194679737091, Min: 0.006976194679737091, Max: 0.006976194679737091\n",
      "\t\tHealthcare_occupations\n",
      "\t\t\tMean: 0.0005078229587525129, Min: 0.00022778840502724051, Max: 0.0010200066026300192\n",
      "\t\tWriting_occupations\n",
      "\t\t\tMean: 0.0005079678958281875, Min: 0.0005079678958281875, Max: 0.0005079678958281875\n",
      "\tPolitical_ideology\n",
      "\t\tLiberalism\n",
      "\t\t\tMean: 0.0023081858817022294, Min: 0.0002465419820509851, Max: 0.004369829781353474\n",
      "\t\tNationalism\n",
      "\t\t\tMean: 0.0003665143303805962, Min: 0.0002661089529283345, Max: 0.00046691970783285797\n",
      "\t\tAnarchism\n",
      "\t\t\tMean: 0.0003936401044484228, Min: 0.0003111475380137563, Max: 0.0004761326708830893\n",
      "\t\tRight-wing\n",
      "\t\t\tMean: 0.00041272491216659546, Min: 0.00041272491216659546, Max: 0.00041272491216659546\n",
      "\tReligious_ideology\n",
      "\t\tSikhism\n",
      "\t\t\tMean: 0.00046136282617226243, Min: 0.00046136282617226243, Max: 0.00046136282617226243\n"
     ]
    },
    {
     "name": "stderr",
     "output_type": "stream",
     "text": [
      "\n"
     ]
    }
   ],
   "source": [
    "tox_dict = {}\n",
    "\n",
    "# Print out toxicity statistics across each model\n",
    "for model in tqdm.tqdm(models):\n",
    "    tox_column = f'{model}_toxicity'\n",
    "    gen_column = f'generated_prompts_{model}'\n",
    "    if 'llama' in gen_column:\n",
    "        gen_column = 'generated_prompts_daryl149/llama-2-7b-chat-hf'\n",
    "    print(f\"Toxicity in {model.upper()}:\")\n",
    "    tox_dict[model] = {}\n",
    "\n",
    "    # Calculate toxicity metrics for subcategories\n",
    "    for domain in prompts_df['domain'].unique():\n",
    "        dom_df = prompts_df[prompts_df['domain'] == domain]\n",
    "        tox_dict[model][domain] = {}\n",
    "        print(f\"\\t{domain.capitalize()}\")\n",
    "              \n",
    "        for c in dom_df['category'].unique():\n",
    "            # Extract all necessary columns\n",
    "            cat_df = dom_df[dom_df['category'] == c]\n",
    "            cat_tox = cat_df[tox_column]\n",
    "            cat_pr = dom_df[dom_df['category'] == c][\"prompts\"]\n",
    "\n",
    "            mean_, min_, max_ = cat_tox.mean(), cat_tox.min(), cat_tox.max()\n",
    "            \n",
    "            print(f\"\\t\\t{c.capitalize()}\\n\\t\\t\\tMean: {mean_}, Min: {min_}, Max: {max_}\")\n",
    "            tox_dict[model][domain][c] = {}\n",
    "            tox_dict[model][domain][c]['prompt'] = cat_pr.to_list()\n",
    "            tox_dict[model][domain][c]['generated_prompt'] = cat_df[gen_column].to_list()\n",
    "            tox_dict[model][domain][c]['toxicity'] = cat_tox.to_list()\n",
    "            tox_dict[model][domain][c]['min'] = min_\n",
    "            tox_dict[model][domain][c]['max'] = max_\n",
    "            tox_dict[model][domain][c]['mean'] = mean_\n",
    "            \n",
    "\n",
    "    "
   ]
  },
  {
   "cell_type": "code",
   "execution_count": 21,
   "metadata": {},
   "outputs": [],
   "source": [
    "# Serialize and save json\n",
    "json_object = json.dumps(tox_dict, indent=4)\n",
    " \n",
    "# Write output of final results\n",
    "with open(\"toxicity_results.json\", \"w\") as outfile:\n",
    "    outfile.write(json_object)\n"
   ]
  },
  {
   "cell_type": "markdown",
   "metadata": {},
   "source": [
    "### Visualize Results"
   ]
  },
  {
   "cell_type": "code",
   "execution_count": 29,
   "metadata": {},
   "outputs": [
    {
     "data": {
      "text/plain": [
       "['generated_prompts_gpt2',\n",
       " 'generated_prompts_gpt-3.5-turbo',\n",
       " 'generated_prompts_meta-llama/Llama-2-7b-chat-hf',\n",
       " 'generated_prompts_mistralai/Mistral-7B-v0.1']"
      ]
     },
     "execution_count": 29,
     "metadata": {},
     "output_type": "execute_result"
    }
   ],
   "source": []
  },
  {
   "cell_type": "code",
   "execution_count": 32,
   "metadata": {},
   "outputs": [],
   "source": [
    "cols = [f'generated_prompts_daryl149/llama-2-7b-chat-hf' if 'llama' in model else f'generated_prompts_{model}' for model in models]\n",
    "# Rearrange df to make visualization easier\n",
    "test_df = prompts_df.melt(\n",
    "    id_vars = cols + ['domain', 'name', 'category', 'prompts', 'wikipedia'],\n",
    "    value_vars = [f'{model}_toxicity' for model in models],\n",
    "    value_name = 'toxicity'\n",
    ")"
   ]
  },
  {
   "cell_type": "code",
   "execution_count": 33,
   "metadata": {},
   "outputs": [],
   "source": [
    "import seaborn as sns\n",
    "import matplotlib.pyplot as plt\n",
    "# Aesthetic theming\n",
    "sns.set_style(style = 'whitegrid')\n",
    "palette = sns.color_palette()\n",
    "plt.rcParams['xtick.labelsize'] = 8\n",
    "plt.rcParams['axes.labelweight'] = 'bold'"
   ]
  },
  {
   "cell_type": "code",
   "execution_count": 36,
   "metadata": {},
   "outputs": [
    {
     "data": {
      "text/plain": [
       "Text(0.5, 1.0, 'Mean Toxicity Across Domains')"
      ]
     },
     "execution_count": 36,
     "metadata": {},
     "output_type": "execute_result"
    },
    {
     "data": {
      "image/png": "[encoded data removed]",
      "text/plain": [
       "<Figure size 640x480 with 1 Axes>"
      ]
     },
     "metadata": {},
     "output_type": "display_data"
    }
   ],
   "source": [
    "ax = sns.barplot(data=test_df, x=\"domain\", y=\"toxicity\", hue=\"domain\")\n",
    "ax.set_title('Mean Toxicity Across Domains')"
   ]
  },
  {
   "cell_type": "code",
   "execution_count": 37,
   "metadata": {},
   "outputs": [
    {
     "name": "stderr",
     "output_type": "stream",
     "text": [
      "/var/folders/kr/c7p7z5x50jg97h8tfr8gk0bm0000gn/T/ipykernel_17854/1488244601.py:1: UserWarning: The palette list has more values (10) than needed (4), which may not be intended.\n",
      "  ax = sns.barplot(data=test_df, x=\"domain\", y=\"toxicity\", hue=\"variable\",\n"
     ]
    },
    {
     "data": {
      "text/plain": [
       "Text(0.5, 1.0, 'Mean Toxicity Across Domains for Each Model')"
      ]
     },
     "execution_count": 37,
     "metadata": {},
     "output_type": "execute_result"
    },
    {
     "data": {
      "image/png": "[encoded data removed]",
      "text/plain": [
       "<Figure size 640x480 with 1 Axes>"
      ]
     },
     "metadata": {},
     "output_type": "display_data"
    }
   ],
   "source": [
    "ax = sns.barplot(data=test_df, x=\"domain\", y=\"toxicity\", hue=\"variable\",\n",
    "            palette=palette)\n",
    "ax.set_title('Mean Toxicity Across Domains for Each Model')"
   ]
  }
 ],
 "metadata": {
  "kernelspec": {
   "display_name": "design_fair_algo",
   "language": "python",
   "name": "design_fair_algo"
  },
  "language_info": {
   "codemirror_mode": {
    "name": "ipython",
    "version": 3
   },
   "file_extension": ".py",
   "mimetype": "text/x-python",
   "name": "python",
   "nbconvert_exporter": "python",
   "pygments_lexer": "ipython3",
   "version": "3.11.0"
  }
 },
 "nbformat": 4,
 "nbformat_minor": 2
}
